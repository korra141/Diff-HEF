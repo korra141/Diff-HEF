{
 "cells": [
  {
   "cell_type": "code",
   "execution_count": 17,
   "metadata": {},
   "outputs": [],
   "source": [
    "import sys\n",
    "base_path_diff_hef = './src/'\n",
    "sys.path.insert(0,base_path_diff_hef)"
   ]
  },
  {
   "cell_type": "code",
   "execution_count": 13,
   "metadata": {},
   "outputs": [
    {
     "data": {
      "text/plain": [
       "<torch._C.Generator at 0x7ff9e1c7aff0>"
      ]
     },
     "execution_count": 13,
     "metadata": {},
     "output_type": "execute_result"
    }
   ],
   "source": [
    "import random\n",
    "import numpy as np\n",
    "import torch\n",
    "\n",
    "random_seed  = 42 \n",
    "random.seed(random_seed)\n",
    "np.random.seed(random_seed)\n",
    "torch.manual_seed(random_seed)"
   ]
  },
  {
   "cell_type": "code",
   "execution_count": 18,
   "metadata": {},
   "outputs": [],
   "source": [
    "from data_generation.SE2.range_simulator import generate_bounded_se2_dataset,SE2Group\n",
    "import numpy as np\n",
    "import torch\n",
    "from distributions.SE2.se2_distribution import SE2, SE2Gaussian\n",
    "from distributions.SE2.SE2_torch import SE2_FFT\n",
    "from utils.sampler import se2_grid_samples_torch\n"
   ]
  },
  {
   "cell_type": "code",
   "execution_count": 20,
   "metadata": {},
   "outputs": [],
   "source": [
    "device = torch.device(\"cpu\")"
   ]
  },
  {
   "cell_type": "code",
   "execution_count": 7,
   "metadata": {},
   "outputs": [],
   "source": [
    "num_trajectories = 10\n",
    "trajectory_length = 80\n",
    "grid_size = [50,50,32]\n",
    "step_motion = [0.01, 0.00, math.pi / 40]\n",
    "motion_cov = [0.001, 0.001, 0.001]\n",
    "measurement_cov = 0.0001\n",
    "# poses = torch.zeros((num_trajectories, trajectory_length, 3))  # Example tensor\n",
    "batch_size = 1\n",
    "validation_split = 0.2\n",
    "test_split = 0.1\n",
    "\n"
   ]
  },
  {
   "cell_type": "code",
   "execution_count": 19,
   "metadata": {},
   "outputs": [
    {
     "ename": "NameError",
     "evalue": "name 'poses' is not defined",
     "output_type": "error",
     "traceback": [
      "\u001b[0;31m---------------------------------------------------------------------------\u001b[0m",
      "\u001b[0;31mNameError\u001b[0m                                 Traceback (most recent call last)",
      "Cell \u001b[0;32mIn[19], line 8\u001b[0m\n\u001b[1;32m      1\u001b[0m np\u001b[38;5;241m.\u001b[39mrandom\u001b[38;5;241m.\u001b[39mseed(random_seed)\n\u001b[1;32m      2\u001b[0m _, _, test_loader \u001b[38;5;241m=\u001b[39m generate_bounded_se2_dataset(\n\u001b[1;32m      3\u001b[0m     num_trajectories\u001b[38;5;241m=\u001b[39mnum_trajectories,\n\u001b[1;32m      4\u001b[0m     trajectory_length\u001b[38;5;241m=\u001b[39mtrajectory_length,\n\u001b[1;32m      5\u001b[0m     step_motion\u001b[38;5;241m=\u001b[39mSE2Group(step_motion[\u001b[38;5;241m0\u001b[39m], step_motion[\u001b[38;5;241m1\u001b[39m], step_motion[\u001b[38;5;241m2\u001b[39m]),\n\u001b[1;32m      6\u001b[0m     motion_noise\u001b[38;5;241m=\u001b[39mnp\u001b[38;5;241m.\u001b[39msqrt(np\u001b[38;5;241m.\u001b[39marray(motion_cov)),\n\u001b[1;32m      7\u001b[0m     measurement_noise\u001b[38;5;241m=\u001b[39mnp\u001b[38;5;241m.\u001b[39msqrt(measurement_cov),\n\u001b[0;32m----> 8\u001b[0m     samples\u001b[38;5;241m=\u001b[39m\u001b[43mposes\u001b[49m\u001b[38;5;241m.\u001b[39mcpu()\u001b[38;5;241m.\u001b[39mnumpy(),\n\u001b[1;32m      9\u001b[0m     batch_size\u001b[38;5;241m=\u001b[39mbatch_size,\n\u001b[1;32m     10\u001b[0m     validation_split\u001b[38;5;241m=\u001b[39mvalidation_split,\n\u001b[1;32m     11\u001b[0m     test_split\u001b[38;5;241m=\u001b[39mtest_split,\n\u001b[1;32m     12\u001b[0m \n\u001b[1;32m     13\u001b[0m     start_pose\u001b[38;5;241m=\u001b[39mSE2Group(\u001b[38;5;241m0.0\u001b[39m, \u001b[38;5;241m-\u001b[39m\u001b[38;5;241m0.15\u001b[39m, \u001b[38;5;241m0\u001b[39m)\n\u001b[1;32m     14\u001b[0m \n\u001b[1;32m     15\u001b[0m )\n",
      "\u001b[0;31mNameError\u001b[0m: name 'poses' is not defined"
     ]
    }
   ],
   "source": [
    "\n",
    "np.random.seed(random_seed)\n",
    "_, _, test_loader = generate_bounded_se2_dataset(\n",
    "    num_trajectories=num_trajectories,\n",
    "    trajectory_length=trajectory_length,\n",
    "    step_motion=SE2Group(step_motion[0], step_motion[1], step_motion[2]),\n",
    "    motion_noise=np.sqrt(np.array(motion_cov)),\n",
    "    measurement_noise=np.sqrt(measurement_cov),\n",
    "    samples=poses.cpu().numpy(),\n",
    "    batch_size=batch_size,\n",
    "    validation_split=validation_split,\n",
    "    test_split=test_split,\n",
    "\n",
    "    start_pose=SE2Group(0.0, -0.15, 0)\n",
    "\n",
    ")"
   ]
  },
  {
   "cell_type": "code",
   "execution_count": 94,
   "metadata": {},
   "outputs": [],
   "source": [
    "# Get the first batch from the test_loader\n",
    "first_batch = next(iter(test_loader))\n"
   ]
  },
  {
   "cell_type": "code",
   "execution_count": 95,
   "metadata": {},
   "outputs": [],
   "source": [
    "inputs, measurements, measurement_energy, control, beacon_idx = first_batch"
   ]
  },
  {
   "cell_type": "code",
   "execution_count": 21,
   "metadata": {},
   "outputs": [],
   "source": [
    "torch_fft = SE2_FFT(spatial_grid_size=grid_size,\n",
    "                interpolation_method='spline',\n",
    "                spline_order=1,\n",
    "                oversampling_factor=1, \n",
    "                device=device)\n",
    "poses, X, Y, T = se2_grid_samples_torch(batch_size, grid_size)\n",
    "\n"
   ]
  },
  {
   "cell_type": "code",
   "execution_count": 26,
   "metadata": {},
   "outputs": [],
   "source": [
    "mu_1 = torch.tensor([0.1, -0.1, 0.034])"
   ]
  },
  {
   "cell_type": "code",
   "execution_count": 28,
   "metadata": {},
   "outputs": [],
   "source": [
    "motion_model = SE2Gaussian(mu_1.unsqueeze(0), torch.diag(torch.tensor(motion_cov)).to(torch.float64).to(device), samples=poses, fft=torch_fft)\n",
    "motion_model.normalize()"
   ]
  },
  {
   "cell_type": "code",
   "execution_count": 24,
   "metadata": {},
   "outputs": [],
   "source": [
    "import matplotlib.pyplot as plt\n",
    "\n",
    "def visualize_se2_distribution(motion_model, X, Y, T):\n",
    "    \"\"\"\n",
    "    Visualizes the SE2 distribution by marginalizing over theta, normalizing it, and plotting it.\n",
    "\n",
    "    Parameters:\n",
    "    - motion_model: SE2Gaussian object representing the motion model.\n",
    "    - X, Y, T: Torch tensors representing the spatial grid.\n",
    "\n",
    "    Returns:\n",
    "    - None\n",
    "    \"\"\"\n",
    "    if isinstance(motion_model.prob, torch.Tensor):\n",
    "        # Marginalize over theta by summing along the theta axis\n",
    "        marginal_distribution = torch.trapz(motion_model.prob.real[0], x=T, dim=2).cpu().numpy()\n",
    "        X_ = X[:,:, 0].cpu().numpy()\n",
    "        Y_ = Y[:,:, 0].cpu().numpy()\n",
    "    elif isinstance(motion_model.prob, np.ndarray):\n",
    "        # Marginalize over theta by summing along the theta axis\n",
    "        marginal_distribution = np.trapz(motion_model.prob.real, x=T, axis=2)\n",
    "        X_ = X[:,:, 0]\n",
    "        Y_ = Y[:,:, 0]\n",
    "\n",
    "    # Normalize the marginal distribution\n",
    "    marginal_distribution_norm = (marginal_distribution - marginal_distribution.min()) / (marginal_distribution.max() - marginal_distribution.min())\n",
    "\n",
    "    # Convert to numpy for plotting\n",
    "    # marginal_distribution_norm_np =  marginal_distribution_norm.cpu().numpy()\n",
    "\n",
    "    # Plot the marginal distribution\n",
    "    plt.figure(figsize=(8, 6))\n",
    "    # plt.contourf(X_,Y_, marginal_distribution_norm, levels=50, cmap='viridis')\n",
    "    plt.pcolormesh(X_, Y_, marginal_distribution_norm , shading='auto', cmap=\"viridis\")\n",
    "    plt.colorbar(label='Probability Density')\n",
    "    plt.xlabel('X')\n",
    "    plt.ylabel('Y')\n",
    "    plt.title('Marginalized SE2 Distribution')\n",
    "    plt.show()\n"
   ]
  },
  {
   "cell_type": "code",
   "execution_count": 132,
   "metadata": {},
   "outputs": [
    {
     "data": {
      "text/plain": [
       "tensor([[0.0010, 0.0000, 0.0000],\n",
       "        [0.0000, 0.0010, 0.0000],\n",
       "        [0.0000, 0.0000, 0.0010]], dtype=torch.float64)"
      ]
     },
     "execution_count": 132,
     "metadata": {},
     "output_type": "execute_result"
    }
   ],
   "source": [
    "motion_model.cov"
   ]
  },
  {
   "cell_type": "code",
   "execution_count": 107,
   "metadata": {},
   "outputs": [
    {
     "data": {
      "text/plain": [
       "tensor([ 0.0257, -0.0044,  0.0990], dtype=torch.float64)"
      ]
     },
     "execution_count": 107,
     "metadata": {},
     "output_type": "execute_result"
    }
   ],
   "source": [
    "mu_torch"
   ]
  },
  {
   "cell_type": "code",
   "execution_count": 126,
   "metadata": {},
   "outputs": [],
   "source": [
    "T_tile = torch.tile(T[0,0].unsqueeze(0).unsqueeze(0),[37,223,1])"
   ]
  },
  {
   "cell_type": "code",
   "execution_count": 125,
   "metadata": {},
   "outputs": [
    {
     "data": {
      "text/plain": [
       "(37, 223, 32)"
      ]
     },
     "execution_count": 125,
     "metadata": {},
     "output_type": "execute_result"
    }
   ],
   "source": [
    "motion_model_M.shape"
   ]
  },
  {
   "cell_type": "code",
   "execution_count": 129,
   "metadata": {},
   "outputs": [
    {
     "data": {
      "text/plain": [
       "tensor(35.3553, dtype=torch.float64)"
      ]
     },
     "execution_count": 129,
     "metadata": {},
     "output_type": "execute_result"
    }
   ],
   "source": [
    " fft.r_max"
   ]
  },
  {
   "cell_type": "code",
   "execution_count": null,
   "metadata": {},
   "outputs": [
    {
     "data": {
      "text/plain": [
       "<matplotlib.image.AxesImage at 0x7f28d2392cb0>"
      ]
     },
     "execution_count": 131,
     "metadata": {},
     "output_type": "execute_result"
    },
    {
     "data": {
      "image/png": "[encoded data removed]",
      "text/plain": [
       "<Figure size 800x600 with 1 Axes>"
      ]
     },
     "metadata": {},
     "output_type": "display_data"
    },
    {
     "data": {
      "image/png": "[encoded data removed]",
      "text/plain": [
       "<Figure size 800x600 with 1 Axes>"
      ]
     },
     "metadata": {},
     "output_type": "display_data"
    }
   ],
   "source": [
    "motion_model_M = motion_model.M.real[0].cpu().numpy()\n",
    "# Marginalize over theta (last dimension)\n",
    "f_marginalized = np.trapz(motion_model_M, x=T_tile.numpy(), axis=2)\n",
    "# Normalize the marginalized result\n",
    "f_marginalized_normalized = (f_marginalized - f_marginalized.min()) / (f_marginalized.max() - f_marginalized.min())\n",
    "# Plot the marginalized result\n",
    "fig = plt.figure(figsize=(8, 6))\n",
    "ax = fig.add_subplot(111)\n",
    "plt.imshow(f_marginalized_normalized, extent=[0, fft.r_max.item(), 0, 2*math.pi], origin='lower', cmap='viridis')\n",
    "\n",
    "motion_model_M_np = motion_distribution_np.eta.real\n",
    "f_marginalized_np = np.trapz(motion_model_M_np, x=T_tile.numpy(), axis=2)\n",
    "f_marginalized_normalized_np = (f_marginalized_np - f_marginalized_np.min()) / (f_marginalized_np.max() - f_marginalized_np.min())\n",
    "fig = plt.figure(figsize=(8, 6))\n",
    "ax = fig.add_subplot(111)\n",
    "plt.imshow(f_marginalized_normalized_np, extent=[0, fft.r_max.item(), 0, 2*math.pi], origin='lower', cmap='viridis')\n"
   ]
  },
  {
   "cell_type": "code",
   "execution_count": 29,
   "metadata": {},
   "outputs": [
    {
     "data": {
      "image/png": "[encoded data removed]",
      "text/plain": [
       "<Figure size 800x600 with 2 Axes>"
      ]
     },
     "metadata": {},
     "output_type": "display_data"
    }
   ],
   "source": [
    "\n",
    "# Example usage\n",
    "visualize_se2_distribution(motion_model, X, Y, T)"
   ]
  },
  {
   "cell_type": "code",
   "execution_count": 8,
   "metadata": {},
   "outputs": [],
   "source": [
    "# plotting it in numpy. \n",
    "import sys\n",
    "import math\n",
    "import numpy as np\n",
    "base_path = '/home/mila/r/ria.arora/scratch/local/HarmonicExponentialBayesFitler'\n",
    "sys.path.insert(0,base_path)\n",
    "from lie_learn.spectral.SE2FFT import SE2_FFT\n",
    "from src.distributions.se2_distributions import SE2, SE2Gaussian\n",
    "from src.sampler.se2_sampler import se2_grid_samples\n",
    "from src.groups.se2_group import SE2Group\n",
    "from src.simulators.se2_range_simulator import SE2RangeSimulator\n",
    "\n",
    "random_seed = 42\n",
    "\n",
    "np_fft = SE2_FFT(\n",
    "    spatial_grid_size=grid_size,\n",
    "    interpolation_method=\"spline\",\n",
    "    spline_order=1,\n",
    "    oversampling_factor=1,\n",
    "    )\n",
    "np_poses, x, y, theta = se2_grid_samples(grid_size)\n",
    "mu_1 = (0.0, -0.15, 0)\n",
    "np.random.seed(random_seed)\n",
    "simulator = SE2RangeSimulator(\n",
    "    start=SE2Group.from_parameters(*mu_1),\n",
    "    step=SE2Group.from_parameters(0.01, 0.00, math.pi/ 40.0),\n",
    "    samples=np_poses,\n",
    "    fft=np_fft,\n",
    "    motion_noise=np.sqrt(np.array(motion_cov)),\n",
    "    measurement_noise=np.sqrt(measurement_cov)\n",
    ")\n",
    "# var_prior= [0.1, 0.1, 0.1]\n",
    "# cov_1 = np.diag(var_prior)\n",
    "# # Motion and measurement noise\n",
    "# prior = SE2Gaussian(mu_1, cov_1, samples=np_poses, fft=np_fft)\n",
    "# prior.normalize()\n",
    "motion_distribution_np = simulator.motion()"
   ]
  },
  {
   "cell_type": "code",
   "execution_count": 16,
   "metadata": {},
   "outputs": [],
   "source": [
    "mu_torch = torch.tensor(motion_distribution_np.mu)"
   ]
  },
  {
   "cell_type": "code",
   "execution_count": 15,
   "metadata": {},
   "outputs": [
    {
     "data": {
      "image/png": "[encoded data removed]",
      "text/plain": [
       "<Figure size 800x600 with 2 Axes>"
      ]
     },
     "metadata": {},
     "output_type": "display_data"
    }
   ],
   "source": [
    "visualize_se2_distribution(motion_distribution_np , x, y, theta)"
   ]
  },
  {
   "cell_type": "code",
   "execution_count": null,
   "metadata": {},
   "outputs": [],
   "source": [
    "def plot_density_heatmap(X, Y, density, title=\"Density Heatmap\", cmap=\"viridis\"):\n",
    "    \"\"\"\n",
    "    Plots a density heatmap using pcolormesh.\n",
    "\n",
    "    Parameters:\n",
    "    - X: 2D array-like, x-coordinates of the grid.\n",
    "    - Y: 2D array-like, y-coordinates of the grid.\n",
    "    - density: 2D array-like, density values at each grid point.\n",
    "    - title: str, title of the plot.\n",
    "    - cmap: str, colormap to use for the heatmap.\n",
    "\n",
    "    Returns:\n",
    "    - None\n",
    "    \"\"\"\n",
    "    plt.figure(figsize=(8, 6))\n",
    "    plt.pcolormesh(X, Y, density, shading='auto', cmap=cmap)\n",
    "    plt.colorbar(label='Density')\n",
    "    plt.xlabel('X')\n",
    "    plt.ylabel('Y')\n",
    "    plt.title(title)\n",
    "    plt.show()"
   ]
  }
 ],
 "metadata": {
  "kernelspec": {
   "display_name": "diff-hef",
   "language": "python",
   "name": "diff-hef"
  }
 },
 "nbformat": 4,
 "nbformat_minor": 2
}
