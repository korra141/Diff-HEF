{
 "cells": [
  {
   "cell_type": "code",
   "execution_count": 228,
   "metadata": {},
   "outputs": [],
   "source": [
    "from lie_learn.spectral.SE2FFT import SE2_FFT, shift_fft, shift_ifft"
   ]
  },
  {
   "cell_type": "code",
   "execution_count": 174,
   "metadata": {},
   "outputs": [],
   "source": [
    "import numpy as np\n",
    "from scipy.stats import multivariate_normal\n",
    "from typing import Tuple"
   ]
  },
  {
   "cell_type": "code",
   "execution_count": 251,
   "metadata": {},
   "outputs": [],
   "source": [
    "from numpy.fft import ifftshift, fftshift\n",
    "from einops import rearrange"
   ]
  },
  {
   "cell_type": "code",
   "execution_count": 258,
   "metadata": {},
   "outputs": [],
   "source": [
    "cov = np.diag([0.1, 0.1, 0.1])\n",
    "# cov = np.eye(3) * 1e-4"
   ]
  },
  {
   "cell_type": "code",
   "execution_count": 259,
   "metadata": {},
   "outputs": [],
   "source": [
    "# mu = np.array([0.1,0.1,np.pi/2])\n",
    "mu = np.array([ 0.  , -0.15,  0.  ])"
   ]
  },
  {
   "cell_type": "code",
   "execution_count": 260,
   "metadata": {},
   "outputs": [],
   "source": [
    "def se2_grid_samples(size: Tuple[int] = (5, 5, 5),\n",
    "                     lower_bound: float = -0.5,\n",
    "                     upper_bound: float = 0.5) -> np.ndarray:\n",
    "    xs = np.linspace(lower_bound, upper_bound, size[0], endpoint=False)\n",
    "    ys = np.linspace(lower_bound, upper_bound, size[1], endpoint=False)\n",
    "    ts = np.linspace(0., 2. * np.pi, size[2], endpoint=False)\n",
    "    X, Y, T = np.meshgrid(xs, ys, ts, indexing='ij')\n",
    "    poses = np.vstack((X.flatten(), Y.flatten(), T.flatten())).T\n",
    "    return poses, X, Y, T"
   ]
  },
  {
   "cell_type": "code",
   "execution_count": 261,
   "metadata": {},
   "outputs": [],
   "source": [
    "grid_size = (50,50,32)"
   ]
  },
  {
   "cell_type": "code",
   "execution_count": 262,
   "metadata": {},
   "outputs": [],
   "source": [
    "poses, X, Y, T = se2_grid_samples(grid_size)"
   ]
  },
  {
   "cell_type": "code",
   "execution_count": 263,
   "metadata": {},
   "outputs": [],
   "source": [
    "diff = poses - mu\n",
    "# Wrap angle\n",
    "diff[:, 2] = (diff[:, 2] + np.pi) % (2 * np.pi) - np.pi\n",
    "energy = multivariate_normal.logpdf(diff, mean=np.zeros(3), cov=cov)\n",
    "energy = energy.reshape(grid_size)"
   ]
  },
  {
   "cell_type": "code",
   "execution_count": null,
   "metadata": {},
   "outputs": [],
   "source": [
    "\n",
    "\n",
    "def se2_gaussian(x, y, theta, mean, cov):\n",
    "    \"\"\"\n",
    "    Compute the value of a Gaussian function on SE(2).\n",
    "    \n",
    "    Parameters:\n",
    "    - x, y: Translation components.\n",
    "    - theta: Rotation component (in radians).\n",
    "    - mean: A tuple (mean_x, mean_y, mean_theta) representing the mean of the Gaussian.\n",
    "    - cov: A 3x3 covariance matrix for the Gaussian.\n",
    "    \n",
    "    Returns:\n",
    "    - The value of the Gaussian function at the given (x, y, theta).\n",
    "    \"\"\"\n",
    "    mean_x, mean_y, mean_theta = mean\n",
    "    cov_xy = cov[:2, :2]  # Covariance for translation\n",
    "    cov_theta = cov[2, 2]  # Variance for rotation\n",
    "    \n",
    "    # Translation part (2D Gaussian)\n",
    "    translation_vector = np.array([x - mean_x, y - mean_y])\n",
    "    translation_exponent = -0.5 * translation_vector.T @ np.linalg.inv(cov_xy) @ translation_vector\n",
    "    translation_gaussian = np.exp(translation_exponent) / (2 * np.pi * np.sqrt(np.linalg.det(cov_xy)))\n",
    "    \n",
    "    # Rotation part (Wrapped Gaussian)\n",
    "    delta_theta = (theta - mean_theta + np.pi) % (2 * np.pi) - np.pi  # Wrap angle to [-π, π]\n",
    "    rotation_exponent = -0.5 * (delta_theta**2) / cov_theta\n",
    "    rotation_gaussian = np.exp(rotation_exponent) / np.sqrt(2 * np.pi * cov_theta)\n",
    "    \n",
    "    # Combine translation and rotation parts\n",
    "    return translation_gaussian * rotation_gaussian\n"
   ]
  },
  {
   "cell_type": "code",
   "execution_count": 264,
   "metadata": {},
   "outputs": [],
   "source": [
    "fft = SE2_FFT(spatial_grid_size=grid_size,\n",
    "                      interpolation_method='spline',\n",
    "                      spline_order=2,\n",
    "                      oversampling_factor=3)"
   ]
  },
  {
   "cell_type": "code",
   "execution_count": 182,
   "metadata": {},
   "outputs": [],
   "source": []
  },
  {
   "cell_type": "code",
   "execution_count": 265,
   "metadata": {},
   "outputs": [],
   "source": [
    "f, f1c, f1p, f2, f2f, fh = fft.analyze(energy)"
   ]
  },
  {
   "cell_type": "code",
   "execution_count": 266,
   "metadata": {},
   "outputs": [],
   "source": [
    "fi, f1ci, f1pi, f2i, f2fi, fhi = fft.synthesize(fh)"
   ]
  },
  {
   "cell_type": "code",
   "execution_count": 267,
   "metadata": {},
   "outputs": [
    {
     "data": {
      "text/plain": [
       "0.5146681235751328"
      ]
     },
     "execution_count": 267,
     "metadata": {},
     "output_type": "execute_result"
    }
   ],
   "source": [
    "np.mean(np.abs(f - fi))"
   ]
  },
  {
   "cell_type": "code",
   "execution_count": 288,
   "metadata": {},
   "outputs": [],
   "source": [
    "poses_ = poses[3000]"
   ]
  },
  {
   "cell_type": "code",
   "execution_count": 292,
   "metadata": {},
   "outputs": [
    {
     "data": {
      "text/plain": [
       "(3,)"
      ]
     },
     "execution_count": 292,
     "metadata": {},
     "output_type": "execute_result"
    }
   ],
   "source": [
    "poses_.shape"
   ]
  },
  {
   "cell_type": "code",
   "execution_count": 293,
   "metadata": {},
   "outputs": [],
   "source": [
    "diff_ = poses_[None,...] - mu\n",
    "# Wrap angle\n",
    "diff_[:, 2] = (diff_[:, 2] + np.pi) % (2 * np.pi) - np.pi\n",
    "energy_true = multivariate_normal.logpdf(diff_, mean=np.zeros(3), cov=cov)"
   ]
  },
  {
   "cell_type": "code",
   "execution_count": 246,
   "metadata": {},
   "outputs": [],
   "source": [
    "b_x, b_y, b_t = grid_size"
   ]
  },
  {
   "cell_type": "code",
   "execution_count": 236,
   "metadata": {},
   "outputs": [],
   "source": [
    "b_x, b_y, b_t = grid_size\n",
    "p, n, m = energy.shape\n",
    "dx, dy, d_theta = poses_\n",
    "# Synthesize signal to obtain first FFT and\n",
    "_, _, _, f_p_psi_m, _, _ = se2_fft.synthesize(M)\n",
    "# Shift the signal to the origin\n",
    "f_p_psi_m_ = ifftshift(f_p_psi_m, axes=2)\n",
    "# Theta ranges from 0 to 2pi, thus ts = 2 * np.pi (duration)\n",
    "t_theta = 2 * np.pi\n",
    "n_theta = f_p_psi_m_.shape[2]\n",
    "# Evaluate fourier coefficients at desired point\n",
    "omega_n = 2 * np.pi * (1 / t_theta) * np.arange(b_t)\n",
    "# Compute the value of f(x) using the inverse Fourier transform\n",
    "f_p_psi = np.sum(f_p_psi_m * np.exp(-1j * omega_n.reshape(1, 1, -1) * d_theta), axis=2)\n",
    "# Map from polar to cartesian grid\n",
    "f_p_p = se2_fft.resample_p2c_3d(f_p_psi.reshape(p, n, 1)).squeeze()\n",
    "# Finally, 2D inverse FFT\n",
    "f_p_p = shift_ifft(f_p_p)\n",
    "# Set domain of X and Y, recall X and Y range from [-0.5, 0.5]\n",
    "t_x, t_y = 1., 1.\n",
    "n_x, n_y = f_p_p.shape[:2]\n",
    "# Compute complex term\n",
    "omega_nx = 2 * np.pi * (1 / t_x) * np.arange(n_x)  # Angular frequencies in X\n",
    "omega_ny = 2 * np.pi * (1 / t_y) * np.arange(n_y)  # Angular frequencies in Y\n",
    "# Compute the value of p(g) using the inverse Fourier transform\n",
    "f = np.sum(f_p_p * np.exp(1j * omega_nx.reshape(-1, 1) * (dx-0.5) + 1j * omega_ny.reshape(1, -1) * (dy-0.5))).real"
   ]
  },
  {
   "cell_type": "code",
   "execution_count": 294,
   "metadata": {},
   "outputs": [
    {
     "data": {
      "text/plain": [
       "-14.092443461484649"
      ]
     },
     "execution_count": 294,
     "metadata": {},
     "output_type": "execute_result"
    }
   ],
   "source": [
    "energy_true"
   ]
  },
  {
   "cell_type": "code",
   "execution_count": 285,
   "metadata": {},
   "outputs": [],
   "source": [
    "def neg_log_likelihood(\n",
    "        eta: np.ndarray, l_n_z: float, pose: np.ndarray, se2_fft: SE2_FFT\n",
    "    ) -> float:\n",
    "        \"\"\"\n",
    "        Compute point-wise synthesize the SE2 Fourier transform M at a given pose. More explicitly, this function\n",
    "        computes p(g = pose)\n",
    "        Args:\n",
    "            eta (np.array): Fourier coefficients (eta) of SE2 distribution with shape [n, 3] where n is the number of\n",
    "                            samples\n",
    "            l_n_z (float): Log of normalization constant of SE2 distribution\n",
    "            pose (np.array): Pose at which to interpolate the SE2 Fourier transform\n",
    "            se2_fft (SE2_FFT): Object class for SE2 Fourier transform\n",
    "\n",
    "        Returns:\n",
    "            Probability of distribution determined by fourier coefficients (moments) at given pose\n",
    "        \"\"\"\n",
    "        b_x, b_y, b_t = grid_size\n",
    "        # Reshape in case single pose is provided\n",
    "        if pose.ndim < 2:\n",
    "            pose = rearrange(pose, \"b -> 1 b\")\n",
    "        # Arrange pose samples in broadcastable shape\n",
    "        dx, dy = rearrange(pose[:, 0], \"b -> 1 b\"), rearrange(pose[:, 1], \"b -> 1 b\")\n",
    "        d_theta = rearrange(pose[:, 2], \"b -> 1 b\")\n",
    "        # Synthesize signal to obtain first FFT and\n",
    "        _, _, _, f_p_psi_m, _, _ = se2_fft.synthesize(eta)\n",
    "        # Shift the signal to the origin\n",
    "        f_p_psi_m = rearrange(ifftshift(f_p_psi_m, axes=2), \"p n m -> p n m 1\")\n",
    "        # Theta ranges from 0 to 2pi, thus ts = 2 * np.pi (duration)\n",
    "        t_theta = 2 * np.pi\n",
    "        # Evaluate fourier coefficients at desired point\n",
    "        omega_n = (\n",
    "            2 * np.pi * (1 / t_theta) * rearrange(np.arange(b_t), \"n -> 1 1 n 1\")\n",
    "        )\n",
    "        # Compute the value of f(x) using the inverse Fourier transform\n",
    "        f_p_psi = np.sum(f_p_psi_m * np.exp(1j * omega_n * d_theta), axis=2)\n",
    "        # f_p_psi = np.sum(f_p_psi_m * np.exp(-1j * omega_n * d_theta / (2. * np.pi)), axis=2)\n",
    "        # Map from polar to cartesian grid\n",
    "        f_p_p = se2_fft.resample_p2c_3d(f_p_psi)\n",
    "        # Finally, 2D inverse FFT\n",
    "        f_p_p = ifftshift(f_p_p, axes=(0, 1))\n",
    "        # Set domain of X and Y, recall X and Y range from [-0.5, 0.5]\n",
    "        t_x, t_y = 1.0, 1.0\n",
    "        # Compute complex term\n",
    "        angle_x = (\n",
    "            1j * 2 * np.pi * (1 / t_x) * rearrange(np.arange(b_x), \"nx -> nx 1\") * (dx + 0.5)\n",
    "        )  # Angle component in X\n",
    "        angle_y = (\n",
    "            1j * 2 * np.pi * (1 / t_y) * rearrange(np.arange(b_y), \"ny -> ny 1\") * (dy + 0.5)\n",
    "        )  # Angle component in Y\n",
    "        # angle_x = 1j * 2 * np.pi * (1 / t_x) * rearrange(np.arange(n_x), 'nx -> nx 1') * (dx + 0.5)  # Angle component in X\n",
    "        # angle_y = 1j * 2 * np.pi * (1 / t_y) * rearrange(np.arange(n_y), 'ny -> ny 1') * (dy + 0.5)  # Angle component in Y\n",
    "        angle = rearrange(angle_x, \"nx b -> nx 1 b\") + rearrange(\n",
    "            angle_y, \"ny b -> 1 ny b\"\n",
    "        )\n",
    "        # Compute the value of log(p(g)) using the inverse Fourier transform\n",
    "        f = np.sum(f_p_p * np.exp(angle), axis=(0, 1)).real\n",
    "#         - l_n_z\n",
    "        return f"
   ]
  },
  {
   "cell_type": "code",
   "execution_count": 295,
   "metadata": {},
   "outputs": [
    {
     "data": {
      "text/plain": [
       "array([-12.25566903])"
      ]
     },
     "execution_count": 295,
     "metadata": {},
     "output_type": "execute_result"
    }
   ],
   "source": [
    "neg_log_likelihood(fh, None, poses_, fft)"
   ]
  },
  {
   "cell_type": "code",
   "execution_count": null,
   "metadata": {},
   "outputs": [],
   "source": []
  }
 ],
 "metadata": {
  "kernelspec": {
   "display_name": "harmonic",
   "language": "python",
   "name": "harmonic"
  },
  "language_info": {
   "codemirror_mode": {
    "name": "ipython",
    "version": 3
   },
   "file_extension": ".py",
   "mimetype": "text/x-python",
   "name": "python",
   "nbconvert_exporter": "python",
   "pygments_lexer": "ipython3",
   "version": "3.8.18"
  }
 },
 "nbformat": 4,
 "nbformat_minor": 4
}
